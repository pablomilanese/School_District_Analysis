{
 "cells": [
  {
   "cell_type": "code",
   "execution_count": 22,
   "id": "d705c5b6",
   "metadata": {},
   "outputs": [],
   "source": [
    "high_schools = [\"Hernandez High School\", \"Figueroa High School\",\n",
    "                \"Wilson High School\",\"Wright High School\"]"
   ]
  },
  {
   "cell_type": "code",
   "execution_count": 23,
   "id": "889d04f1",
   "metadata": {},
   "outputs": [
    {
     "name": "stdout",
     "output_type": "stream",
     "text": [
      "Hernandez High School\n",
      "Figueroa High School\n",
      "Wilson High School\n",
      "Wright High School\n"
     ]
    }
   ],
   "source": [
    "for school in high_schools:\n",
    "    print(school)"
   ]
  },
  {
   "cell_type": "code",
   "execution_count": 24,
   "id": "7720644a",
   "metadata": {},
   "outputs": [],
   "source": [
    "high_school_types = [{\"High School\": \"Griffin\", \"Type\":\"District\"},\n",
    "                    {\"High School\": \"Figueroa\", \"Type\": \"District\"},\n",
    "                    {\"High School\": \"Wilson\", \"Type\": \"Charter\"},\n",
    "                    {\"High School\": \"Wright\", \"Type\": \"Charter\"}]"
   ]
  },
  {
   "cell_type": "code",
   "execution_count": 25,
   "id": "c23a1f2f",
   "metadata": {},
   "outputs": [
    {
     "name": "stdout",
     "output_type": "stream",
     "text": [
      "{'High School': 'Griffin', 'Type': 'District'}\n",
      "{'High School': 'Figueroa', 'Type': 'District'}\n",
      "{'High School': 'Wilson', 'Type': 'Charter'}\n",
      "{'High School': 'Wright', 'Type': 'Charter'}\n"
     ]
    }
   ],
   "source": [
    "for types in high_school_types:\n",
    "    print(types)"
   ]
  },
  {
   "cell_type": "code",
   "execution_count": 26,
   "id": "9a6d807a",
   "metadata": {},
   "outputs": [],
   "source": [
    "# list of high schools\n",
    "high_schools = [\"Huang High School\",  \"Figueroa High School\", \"Shelton High School\", \"Hernandez High School\",\"Griffin High School\",\"Wilson High School\", \"Cabrera High School\", \"Bailey High School\", \"Holden High School\", \"Pena High School\", \"Wright High School\",\"Rodriguez High School\", \"Johnson High School\", \"Ford High School\", \"Thomas High School\"]\n"
   ]
  },
  {
   "cell_type": "code",
   "execution_count": 27,
   "id": "9faba0ea",
   "metadata": {},
   "outputs": [],
   "source": [
    "# add the pandas dependency\n",
    "import pandas as pd"
   ]
  },
  {
   "cell_type": "code",
   "execution_count": 28,
   "id": "582d648e",
   "metadata": {},
   "outputs": [
    {
     "data": {
      "text/plain": [
       "0         Huang High School\n",
       "1      Figueroa High School\n",
       "2       Shelton High School\n",
       "3     Hernandez High School\n",
       "4       Griffin High School\n",
       "5        Wilson High School\n",
       "6       Cabrera High School\n",
       "7        Bailey High School\n",
       "8        Holden High School\n",
       "9          Pena High School\n",
       "10       Wright High School\n",
       "11    Rodriguez High School\n",
       "12      Johnson High School\n",
       "13         Ford High School\n",
       "14       Thomas High School\n",
       "dtype: object"
      ]
     },
     "execution_count": 28,
     "metadata": {},
     "output_type": "execute_result"
    }
   ],
   "source": [
    "# create a Pandas Series from a list\n",
    "school_series = pd.Series(high_schools)\n",
    "\n",
    "school_series"
   ]
  },
  {
   "cell_type": "code",
   "execution_count": 30,
   "id": "02b7e3e8",
   "metadata": {},
   "outputs": [
    {
     "name": "stdout",
     "output_type": "stream",
     "text": [
      "Huang High School\n",
      "Figueroa High School\n",
      "Shelton High School\n",
      "Hernandez High School\n",
      "Griffin High School\n",
      "Wilson High School\n",
      "Cabrera High School\n",
      "Bailey High School\n",
      "Holden High School\n",
      "Pena High School\n",
      "Wright High School\n",
      "Rodriguez High School\n",
      "Johnson High School\n",
      "Ford High School\n",
      "Thomas High School\n"
     ]
    }
   ],
   "source": [
    "# skill drill 4.3.5\n",
    "for school in school_series:\n",
    "    print(school)"
   ]
  },
  {
   "cell_type": "code",
   "execution_count": 31,
   "id": "68bd57df",
   "metadata": {},
   "outputs": [],
   "source": [
    "# array or list of dictionaries\n",
    "high_school_dicts = [{\"School ID\": 0, \"school_name\": \"Huang High    School\", \"type\": \"District\"},\n",
    "                   {\"School ID\": 1, \"school_name\": \"Figueroa High School\", \"type\": \"District\"},\n",
    "                    {\"School ID\": 2, \"school_name\":\"Shelton High School\", \"type\": \"Charter\"},\n",
    "                    {\"School ID\": 3, \"school_name\":\"Hernandez High School\", \"type\": \"District\"},\n",
    "                    {\"School ID\": 4, \"school_name\":\"Griffin High School\", \"type\": \"Charter\"}]"
   ]
  },
  {
   "cell_type": "code",
   "execution_count": 32,
   "id": "64a3df87",
   "metadata": {},
   "outputs": [
    {
     "data": {
      "text/html": [
       "<div>\n",
       "<style scoped>\n",
       "    .dataframe tbody tr th:only-of-type {\n",
       "        vertical-align: middle;\n",
       "    }\n",
       "\n",
       "    .dataframe tbody tr th {\n",
       "        vertical-align: top;\n",
       "    }\n",
       "\n",
       "    .dataframe thead th {\n",
       "        text-align: right;\n",
       "    }\n",
       "</style>\n",
       "<table border=\"1\" class=\"dataframe\">\n",
       "  <thead>\n",
       "    <tr style=\"text-align: right;\">\n",
       "      <th></th>\n",
       "      <th>School ID</th>\n",
       "      <th>school_name</th>\n",
       "      <th>type</th>\n",
       "    </tr>\n",
       "  </thead>\n",
       "  <tbody>\n",
       "    <tr>\n",
       "      <th>0</th>\n",
       "      <td>0</td>\n",
       "      <td>Huang High    School</td>\n",
       "      <td>District</td>\n",
       "    </tr>\n",
       "    <tr>\n",
       "      <th>1</th>\n",
       "      <td>1</td>\n",
       "      <td>Figueroa High School</td>\n",
       "      <td>District</td>\n",
       "    </tr>\n",
       "    <tr>\n",
       "      <th>2</th>\n",
       "      <td>2</td>\n",
       "      <td>Shelton High School</td>\n",
       "      <td>Charter</td>\n",
       "    </tr>\n",
       "    <tr>\n",
       "      <th>3</th>\n",
       "      <td>3</td>\n",
       "      <td>Hernandez High School</td>\n",
       "      <td>District</td>\n",
       "    </tr>\n",
       "    <tr>\n",
       "      <th>4</th>\n",
       "      <td>4</td>\n",
       "      <td>Griffin High School</td>\n",
       "      <td>Charter</td>\n",
       "    </tr>\n",
       "  </tbody>\n",
       "</table>\n",
       "</div>"
      ],
      "text/plain": [
       "   School ID            school_name      type\n",
       "0          0   Huang High    School  District\n",
       "1          1   Figueroa High School  District\n",
       "2          2    Shelton High School   Charter\n",
       "3          3  Hernandez High School  District\n",
       "4          4    Griffin High School   Charter"
      ]
     },
     "execution_count": 32,
     "metadata": {},
     "output_type": "execute_result"
    }
   ],
   "source": [
    "# convert the array or list of dictionaries to a DataFrame\n",
    "school_df = pd.DataFrame(high_school_dicts)\n",
    "school_df"
   ]
  },
  {
   "cell_type": "code",
   "execution_count": 42,
   "id": "234d073b",
   "metadata": {},
   "outputs": [],
   "source": [
    "# create three series to then add to our DataFrame\n",
    "school_id = [0,1,2,3,4]\n",
    "\n",
    "school_name = [\"Huang High School\", \"Figueroa High School\",\n",
    "\"Shelton High School\", \"Hernandez High School\",\"Griffin High School\"]\n",
    "\n",
    "type_of_school = [\"District\", \"District\", \"Charter\", \"District\",\"Charter\"]"
   ]
  },
  {
   "cell_type": "code",
   "execution_count": 47,
   "id": "eb25b7ae",
   "metadata": {},
   "outputs": [],
   "source": [
    "# initialize a new Dataframe\n",
    "\n",
    "schools_df = pd.DataFrame()"
   ]
  },
  {
   "cell_type": "code",
   "execution_count": 48,
   "id": "01a93eb8",
   "metadata": {},
   "outputs": [
    {
     "data": {
      "text/html": [
       "<div>\n",
       "<style scoped>\n",
       "    .dataframe tbody tr th:only-of-type {\n",
       "        vertical-align: middle;\n",
       "    }\n",
       "\n",
       "    .dataframe tbody tr th {\n",
       "        vertical-align: top;\n",
       "    }\n",
       "\n",
       "    .dataframe thead th {\n",
       "        text-align: right;\n",
       "    }\n",
       "</style>\n",
       "<table border=\"1\" class=\"dataframe\">\n",
       "  <thead>\n",
       "    <tr style=\"text-align: right;\">\n",
       "      <th></th>\n",
       "      <th>School ID</th>\n",
       "      <th>school_name</th>\n",
       "      <th>type</th>\n",
       "    </tr>\n",
       "  </thead>\n",
       "  <tbody>\n",
       "    <tr>\n",
       "      <th>0</th>\n",
       "      <td>0</td>\n",
       "      <td>Huang High School</td>\n",
       "      <td>District</td>\n",
       "    </tr>\n",
       "    <tr>\n",
       "      <th>1</th>\n",
       "      <td>1</td>\n",
       "      <td>Figueroa High School</td>\n",
       "      <td>District</td>\n",
       "    </tr>\n",
       "    <tr>\n",
       "      <th>2</th>\n",
       "      <td>2</td>\n",
       "      <td>Shelton High School</td>\n",
       "      <td>Charter</td>\n",
       "    </tr>\n",
       "    <tr>\n",
       "      <th>3</th>\n",
       "      <td>3</td>\n",
       "      <td>Hernandez High School</td>\n",
       "      <td>District</td>\n",
       "    </tr>\n",
       "    <tr>\n",
       "      <th>4</th>\n",
       "      <td>4</td>\n",
       "      <td>Griffin High School</td>\n",
       "      <td>Charter</td>\n",
       "    </tr>\n",
       "  </tbody>\n",
       "</table>\n",
       "</div>"
      ],
      "text/plain": [
       "   School ID            school_name      type\n",
       "0          0      Huang High School  District\n",
       "1          1   Figueroa High School  District\n",
       "2          2    Shelton High School   Charter\n",
       "3          3  Hernandez High School  District\n",
       "4          4    Griffin High School   Charter"
      ]
     },
     "execution_count": 48,
     "metadata": {},
     "output_type": "execute_result"
    }
   ],
   "source": [
    "# add the list to a new DataFrame\n",
    "schools_df[\"School ID\"] = school_id\n",
    "schools_df[\"school_name\"] = school_name\n",
    "schools_df[\"type\"] = type_of_school\n",
    "\n",
    "#print the DataFrame\n",
    "schools_df"
   ]
  },
  {
   "cell_type": "code",
   "execution_count": null,
   "id": "7c7bea6c",
   "metadata": {},
   "outputs": [],
   "source": [
    "# convert the dictionary high_schools_dict to a DataFrame\n",
    "schools_df = pd.DataFrame(high_school_dict)"
   ]
  },
  {
   "cell_type": "code",
   "execution_count": 49,
   "id": "9f372217",
   "metadata": {},
   "outputs": [
    {
     "data": {
      "text/plain": [
       "Index(['School ID', 'school_name', 'type'], dtype='object')"
      ]
     },
     "execution_count": 49,
     "metadata": {},
     "output_type": "execute_result"
    }
   ],
   "source": [
    "# how to get the column names of a DataFrame using the .columns attribute\n",
    "school_df.columns"
   ]
  },
  {
   "cell_type": "code",
   "execution_count": 50,
   "id": "67470241",
   "metadata": {},
   "outputs": [
    {
     "data": {
      "text/plain": [
       "RangeIndex(start=0, stop=5, step=1)"
      ]
     },
     "execution_count": 50,
     "metadata": {},
     "output_type": "execute_result"
    }
   ],
   "source": [
    "# .index attribute to get the indices. This gives us the first and last index value and increments, step=1\n",
    "school_df.index"
   ]
  },
  {
   "cell_type": "code",
   "execution_count": 51,
   "id": "ed836584",
   "metadata": {},
   "outputs": [
    {
     "data": {
      "text/plain": [
       "array([[0, 'Huang High    School', 'District'],\n",
       "       [1, 'Figueroa High School', 'District'],\n",
       "       [2, 'Shelton High School', 'Charter'],\n",
       "       [3, 'Hernandez High School', 'District'],\n",
       "       [4, 'Griffin High School', 'Charter']], dtype=object)"
      ]
     },
     "execution_count": 51,
     "metadata": {},
     "output_type": "execute_result"
    }
   ],
   "source": [
    "# .values attributes gives us the array of all the values without column names\n",
    "school_df.values"
   ]
  },
  {
   "cell_type": "code",
   "execution_count": null,
   "id": "0640f197",
   "metadata": {},
   "outputs": [],
   "source": []
  }
 ],
 "metadata": {
  "kernelspec": {
   "display_name": "PythonData",
   "language": "python",
   "name": "pythondata"
  },
  "language_info": {
   "codemirror_mode": {
    "name": "ipython",
    "version": 3
   },
   "file_extension": ".py",
   "mimetype": "text/x-python",
   "name": "python",
   "nbconvert_exporter": "python",
   "pygments_lexer": "ipython3",
   "version": "3.9.12"
  }
 },
 "nbformat": 4,
 "nbformat_minor": 5
}
